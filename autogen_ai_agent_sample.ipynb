{
  "nbformat": 4,
  "nbformat_minor": 0,
  "metadata": {
    "colab": {
      "provenance": [],
      "authorship_tag": "ABX9TyMdTkOTgxCdwZ6YtWNRS7Kd",
      "include_colab_link": true
    },
    "kernelspec": {
      "name": "python3",
      "display_name": "Python 3"
    },
    "language_info": {
      "name": "python"
    }
  },
  "cells": [
    {
      "cell_type": "markdown",
      "metadata": {
        "id": "view-in-github",
        "colab_type": "text"
      },
      "source": [
        "<a href=\"https://colab.research.google.com/github/farahelmashad/ai-agents-microsoft-course/blob/main/autogen_ai_agent_sample.ipynb\" target=\"_parent\"><img src=\"https://colab.research.google.com/assets/colab-badge.svg\" alt=\"Open In Colab\"/></a>"
      ]
    },
    {
      "cell_type": "code",
      "source": [
        "!pip install python-dotenv autogen-agentchat autogen-ext[azure] azure-core"
      ],
      "metadata": {
        "colab": {
          "base_uri": "https://localhost:8080/"
        },
        "collapsed": true,
        "id": "hIhqWiHNmxuP",
        "outputId": "73b9dff2-5647-4ba0-8d91-5da894e61f9c"
      },
      "execution_count": 4,
      "outputs": [
        {
          "output_type": "stream",
          "name": "stdout",
          "text": [
            "Requirement already satisfied: python-dotenv in /usr/local/lib/python3.12/dist-packages (1.1.1)\n",
            "Requirement already satisfied: autogen-agentchat in /usr/local/lib/python3.12/dist-packages (0.7.4)\n",
            "Collecting azure-core\n",
            "  Downloading azure_core-1.35.1-py3-none-any.whl.metadata (46 kB)\n",
            "\u001b[2K     \u001b[90m━━━━━━━━━━━━━━━━━━━━━━━━━━━━━━━━━━━━━━━━\u001b[0m \u001b[32m46.5/46.5 kB\u001b[0m \u001b[31m2.8 MB/s\u001b[0m eta \u001b[36m0:00:00\u001b[0m\n",
            "\u001b[?25hCollecting autogen-ext[azure]\n",
            "  Downloading autogen_ext-0.7.4-py3-none-any.whl.metadata (7.3 kB)\n",
            "Requirement already satisfied: autogen-core==0.7.4 in /usr/local/lib/python3.12/dist-packages (from autogen-agentchat) (0.7.4)\n",
            "Requirement already satisfied: jsonref~=1.1.0 in /usr/local/lib/python3.12/dist-packages (from autogen-core==0.7.4->autogen-agentchat) (1.1.0)\n",
            "Requirement already satisfied: opentelemetry-api>=1.34.1 in /usr/local/lib/python3.12/dist-packages (from autogen-core==0.7.4->autogen-agentchat) (1.36.0)\n",
            "Requirement already satisfied: pillow>=11.0.0 in /usr/local/lib/python3.12/dist-packages (from autogen-core==0.7.4->autogen-agentchat) (11.3.0)\n",
            "Requirement already satisfied: protobuf~=5.29.3 in /usr/local/lib/python3.12/dist-packages (from autogen-core==0.7.4->autogen-agentchat) (5.29.5)\n",
            "Requirement already satisfied: pydantic<3.0.0,>=2.10.0 in /usr/local/lib/python3.12/dist-packages (from autogen-core==0.7.4->autogen-agentchat) (2.11.7)\n",
            "Requirement already satisfied: typing-extensions>=4.0.0 in /usr/local/lib/python3.12/dist-packages (from autogen-core==0.7.4->autogen-agentchat) (4.15.0)\n",
            "Collecting azure-ai-inference>=1.0.0b9 (from autogen-ext[azure])\n",
            "  Downloading azure_ai_inference-1.0.0b9-py3-none-any.whl.metadata (34 kB)\n",
            "Collecting azure-ai-projects>=1.0.0b11 (from autogen-ext[azure])\n",
            "  Downloading azure_ai_projects-1.1.0b4-py3-none-any.whl.metadata (24 kB)\n",
            "Collecting azure-identity (from autogen-ext[azure])\n",
            "  Downloading azure_identity-1.25.0-py3-none-any.whl.metadata (87 kB)\n",
            "\u001b[2K     \u001b[90m━━━━━━━━━━━━━━━━━━━━━━━━━━━━━━━━━━━━━━━━\u001b[0m \u001b[32m88.0/88.0 kB\u001b[0m \u001b[31m5.2 MB/s\u001b[0m eta \u001b[36m0:00:00\u001b[0m\n",
            "\u001b[?25hCollecting azure-search-documents>=11.4.0 (from autogen-ext[azure])\n",
            "  Downloading azure_search_documents-11.5.3-py3-none-any.whl.metadata (23 kB)\n",
            "Requirement already satisfied: requests>=2.21.0 in /usr/local/lib/python3.12/dist-packages (from azure-core) (2.32.4)\n",
            "Requirement already satisfied: six>=1.11.0 in /usr/local/lib/python3.12/dist-packages (from azure-core) (1.17.0)\n",
            "Collecting isodate>=0.6.1 (from azure-ai-inference>=1.0.0b9->autogen-ext[azure])\n",
            "  Downloading isodate-0.7.2-py3-none-any.whl.metadata (11 kB)\n",
            "Collecting azure-storage-blob>=12.15.0 (from azure-ai-projects>=1.0.0b11->autogen-ext[azure])\n",
            "  Downloading azure_storage_blob-12.26.0-py3-none-any.whl.metadata (26 kB)\n",
            "Collecting azure-ai-agents>=1.2.0b3 (from azure-ai-projects>=1.0.0b11->autogen-ext[azure])\n",
            "  Downloading azure_ai_agents-1.2.0b4-py3-none-any.whl.metadata (71 kB)\n",
            "\u001b[2K     \u001b[90m━━━━━━━━━━━━━━━━━━━━━━━━━━━━━━━━━━━━━━━━\u001b[0m \u001b[32m71.8/71.8 kB\u001b[0m \u001b[31m7.0 MB/s\u001b[0m eta \u001b[36m0:00:00\u001b[0m\n",
            "\u001b[?25hCollecting azure-common>=1.1 (from azure-search-documents>=11.4.0->autogen-ext[azure])\n",
            "  Downloading azure_common-1.1.28-py2.py3-none-any.whl.metadata (5.0 kB)\n",
            "Requirement already satisfied: charset_normalizer<4,>=2 in /usr/local/lib/python3.12/dist-packages (from requests>=2.21.0->azure-core) (3.4.3)\n",
            "Requirement already satisfied: idna<4,>=2.5 in /usr/local/lib/python3.12/dist-packages (from requests>=2.21.0->azure-core) (3.10)\n",
            "Requirement already satisfied: urllib3<3,>=1.21.1 in /usr/local/lib/python3.12/dist-packages (from requests>=2.21.0->azure-core) (2.5.0)\n",
            "Requirement already satisfied: certifi>=2017.4.17 in /usr/local/lib/python3.12/dist-packages (from requests>=2.21.0->azure-core) (2025.8.3)\n",
            "Requirement already satisfied: cryptography>=2.5 in /usr/local/lib/python3.12/dist-packages (from azure-identity->autogen-ext[azure]) (43.0.3)\n",
            "Collecting msal>=1.30.0 (from azure-identity->autogen-ext[azure])\n",
            "  Downloading msal-1.33.0-py3-none-any.whl.metadata (11 kB)\n",
            "Collecting msal-extensions>=1.2.0 (from azure-identity->autogen-ext[azure])\n",
            "  Downloading msal_extensions-1.3.1-py3-none-any.whl.metadata (7.8 kB)\n",
            "Requirement already satisfied: cffi>=1.12 in /usr/local/lib/python3.12/dist-packages (from cryptography>=2.5->azure-identity->autogen-ext[azure]) (1.17.1)\n",
            "Requirement already satisfied: PyJWT<3,>=1.0.0 in /usr/local/lib/python3.12/dist-packages (from PyJWT[crypto]<3,>=1.0.0->msal>=1.30.0->azure-identity->autogen-ext[azure]) (2.10.1)\n",
            "Requirement already satisfied: importlib-metadata<8.8.0,>=6.0 in /usr/local/lib/python3.12/dist-packages (from opentelemetry-api>=1.34.1->autogen-core==0.7.4->autogen-agentchat) (8.7.0)\n",
            "Requirement already satisfied: annotated-types>=0.6.0 in /usr/local/lib/python3.12/dist-packages (from pydantic<3.0.0,>=2.10.0->autogen-core==0.7.4->autogen-agentchat) (0.7.0)\n",
            "Requirement already satisfied: pydantic-core==2.33.2 in /usr/local/lib/python3.12/dist-packages (from pydantic<3.0.0,>=2.10.0->autogen-core==0.7.4->autogen-agentchat) (2.33.2)\n",
            "Requirement already satisfied: typing-inspection>=0.4.0 in /usr/local/lib/python3.12/dist-packages (from pydantic<3.0.0,>=2.10.0->autogen-core==0.7.4->autogen-agentchat) (0.4.1)\n",
            "Requirement already satisfied: pycparser in /usr/local/lib/python3.12/dist-packages (from cffi>=1.12->cryptography>=2.5->azure-identity->autogen-ext[azure]) (2.22)\n",
            "Requirement already satisfied: zipp>=3.20 in /usr/local/lib/python3.12/dist-packages (from importlib-metadata<8.8.0,>=6.0->opentelemetry-api>=1.34.1->autogen-core==0.7.4->autogen-agentchat) (3.23.0)\n",
            "Downloading azure_core-1.35.1-py3-none-any.whl (211 kB)\n",
            "\u001b[2K   \u001b[90m━━━━━━━━━━━━━━━━━━━━━━━━━━━━━━━━━━━━━━━━\u001b[0m \u001b[32m211.8/211.8 kB\u001b[0m \u001b[31m14.5 MB/s\u001b[0m eta \u001b[36m0:00:00\u001b[0m\n",
            "\u001b[?25hDownloading azure_ai_inference-1.0.0b9-py3-none-any.whl (124 kB)\n",
            "\u001b[2K   \u001b[90m━━━━━━━━━━━━━━━━━━━━━━━━━━━━━━━━━━━━━━━━\u001b[0m \u001b[32m124.9/124.9 kB\u001b[0m \u001b[31m11.8 MB/s\u001b[0m eta \u001b[36m0:00:00\u001b[0m\n",
            "\u001b[?25hDownloading azure_ai_projects-1.1.0b4-py3-none-any.whl (126 kB)\n",
            "\u001b[2K   \u001b[90m━━━━━━━━━━━━━━━━━━━━━━━━━━━━━━━━━━━━━━━━\u001b[0m \u001b[32m126.7/126.7 kB\u001b[0m \u001b[31m11.6 MB/s\u001b[0m eta \u001b[36m0:00:00\u001b[0m\n",
            "\u001b[?25hDownloading azure_search_documents-11.5.3-py3-none-any.whl (298 kB)\n",
            "\u001b[2K   \u001b[90m━━━━━━━━━━━━━━━━━━━━━━━━━━━━━━━━━━━━━━━━\u001b[0m \u001b[32m298.8/298.8 kB\u001b[0m \u001b[31m22.8 MB/s\u001b[0m eta \u001b[36m0:00:00\u001b[0m\n",
            "\u001b[?25hDownloading autogen_ext-0.7.4-py3-none-any.whl (328 kB)\n",
            "\u001b[2K   \u001b[90m━━━━━━━━━━━━━━━━━━━━━━━━━━━━━━━━━━━━━━━━\u001b[0m \u001b[32m328.9/328.9 kB\u001b[0m \u001b[31m26.6 MB/s\u001b[0m eta \u001b[36m0:00:00\u001b[0m\n",
            "\u001b[?25hDownloading azure_identity-1.25.0-py3-none-any.whl (190 kB)\n",
            "\u001b[2K   \u001b[90m━━━━━━━━━━━━━━━━━━━━━━━━━━━━━━━━━━━━━━━━\u001b[0m \u001b[32m190.9/190.9 kB\u001b[0m \u001b[31m16.4 MB/s\u001b[0m eta \u001b[36m0:00:00\u001b[0m\n",
            "\u001b[?25hDownloading azure_ai_agents-1.2.0b4-py3-none-any.whl (214 kB)\n",
            "\u001b[2K   \u001b[90m━━━━━━━━━━━━━━━━━━━━━━━━━━━━━━━━━━━━━━━━\u001b[0m \u001b[32m214.7/214.7 kB\u001b[0m \u001b[31m20.2 MB/s\u001b[0m eta \u001b[36m0:00:00\u001b[0m\n",
            "\u001b[?25hDownloading azure_common-1.1.28-py2.py3-none-any.whl (14 kB)\n",
            "Downloading azure_storage_blob-12.26.0-py3-none-any.whl (412 kB)\n",
            "\u001b[2K   \u001b[90m━━━━━━━━━━━━━━━━━━━━━━━━━━━━━━━━━━━━━━━━\u001b[0m \u001b[32m412.9/412.9 kB\u001b[0m \u001b[31m31.8 MB/s\u001b[0m eta \u001b[36m0:00:00\u001b[0m\n",
            "\u001b[?25hDownloading isodate-0.7.2-py3-none-any.whl (22 kB)\n",
            "Downloading msal-1.33.0-py3-none-any.whl (116 kB)\n",
            "\u001b[2K   \u001b[90m━━━━━━━━━━━━━━━━━━━━━━━━━━━━━━━━━━━━━━━━\u001b[0m \u001b[32m116.9/116.9 kB\u001b[0m \u001b[31m10.1 MB/s\u001b[0m eta \u001b[36m0:00:00\u001b[0m\n",
            "\u001b[?25hDownloading msal_extensions-1.3.1-py3-none-any.whl (20 kB)\n",
            "Installing collected packages: azure-common, isodate, azure-core, azure-storage-blob, azure-search-documents, azure-ai-inference, azure-ai-agents, msal, azure-ai-projects, autogen-ext, msal-extensions, azure-identity\n",
            "Successfully installed autogen-ext-0.7.4 azure-ai-agents-1.2.0b4 azure-ai-inference-1.0.0b9 azure-ai-projects-1.1.0b4 azure-common-1.1.28 azure-core-1.35.1 azure-identity-1.25.0 azure-search-documents-11.5.3 azure-storage-blob-12.26.0 isodate-0.7.2 msal-1.33.0 msal-extensions-1.3.1\n"
          ]
        }
      ]
    },
    {
      "cell_type": "code",
      "source": [
        "!pip install autogen-agentchat"
      ],
      "metadata": {
        "colab": {
          "base_uri": "https://localhost:8080/"
        },
        "id": "ugA9ze1ommdG",
        "outputId": "7b030511-b609-4f6a-c295-bd9937d2f6a4"
      },
      "execution_count": 2,
      "outputs": [
        {
          "output_type": "stream",
          "name": "stdout",
          "text": [
            "Collecting autogen-agentchat\n",
            "  Downloading autogen_agentchat-0.7.4-py3-none-any.whl.metadata (2.5 kB)\n",
            "Collecting autogen-core==0.7.4 (from autogen-agentchat)\n",
            "  Downloading autogen_core-0.7.4-py3-none-any.whl.metadata (2.3 kB)\n",
            "Collecting jsonref~=1.1.0 (from autogen-core==0.7.4->autogen-agentchat)\n",
            "  Downloading jsonref-1.1.0-py3-none-any.whl.metadata (2.7 kB)\n",
            "Requirement already satisfied: opentelemetry-api>=1.34.1 in /usr/local/lib/python3.12/dist-packages (from autogen-core==0.7.4->autogen-agentchat) (1.36.0)\n",
            "Requirement already satisfied: pillow>=11.0.0 in /usr/local/lib/python3.12/dist-packages (from autogen-core==0.7.4->autogen-agentchat) (11.3.0)\n",
            "Requirement already satisfied: protobuf~=5.29.3 in /usr/local/lib/python3.12/dist-packages (from autogen-core==0.7.4->autogen-agentchat) (5.29.5)\n",
            "Requirement already satisfied: pydantic<3.0.0,>=2.10.0 in /usr/local/lib/python3.12/dist-packages (from autogen-core==0.7.4->autogen-agentchat) (2.11.7)\n",
            "Requirement already satisfied: typing-extensions>=4.0.0 in /usr/local/lib/python3.12/dist-packages (from autogen-core==0.7.4->autogen-agentchat) (4.15.0)\n",
            "Requirement already satisfied: importlib-metadata<8.8.0,>=6.0 in /usr/local/lib/python3.12/dist-packages (from opentelemetry-api>=1.34.1->autogen-core==0.7.4->autogen-agentchat) (8.7.0)\n",
            "Requirement already satisfied: annotated-types>=0.6.0 in /usr/local/lib/python3.12/dist-packages (from pydantic<3.0.0,>=2.10.0->autogen-core==0.7.4->autogen-agentchat) (0.7.0)\n",
            "Requirement already satisfied: pydantic-core==2.33.2 in /usr/local/lib/python3.12/dist-packages (from pydantic<3.0.0,>=2.10.0->autogen-core==0.7.4->autogen-agentchat) (2.33.2)\n",
            "Requirement already satisfied: typing-inspection>=0.4.0 in /usr/local/lib/python3.12/dist-packages (from pydantic<3.0.0,>=2.10.0->autogen-core==0.7.4->autogen-agentchat) (0.4.1)\n",
            "Requirement already satisfied: zipp>=3.20 in /usr/local/lib/python3.12/dist-packages (from importlib-metadata<8.8.0,>=6.0->opentelemetry-api>=1.34.1->autogen-core==0.7.4->autogen-agentchat) (3.23.0)\n",
            "Downloading autogen_agentchat-0.7.4-py3-none-any.whl (119 kB)\n",
            "\u001b[2K   \u001b[90m━━━━━━━━━━━━━━━━━━━━━━━━━━━━━━━━━━━━━━━━\u001b[0m \u001b[32m119.1/119.1 kB\u001b[0m \u001b[31m3.3 MB/s\u001b[0m eta \u001b[36m0:00:00\u001b[0m\n",
            "\u001b[?25hDownloading autogen_core-0.7.4-py3-none-any.whl (101 kB)\n",
            "\u001b[2K   \u001b[90m━━━━━━━━━━━━━━━━━━━━━━━━━━━━━━━━━━━━━━━━\u001b[0m \u001b[32m101.6/101.6 kB\u001b[0m \u001b[31m6.3 MB/s\u001b[0m eta \u001b[36m0:00:00\u001b[0m\n",
            "\u001b[?25hDownloading jsonref-1.1.0-py3-none-any.whl (9.4 kB)\n",
            "Installing collected packages: jsonref, autogen-core, autogen-agentchat\n",
            "Successfully installed autogen-agentchat-0.7.4 autogen-core-0.7.4 jsonref-1.1.0\n"
          ]
        }
      ]
    },
    {
      "cell_type": "code",
      "execution_count": 5,
      "metadata": {
        "id": "Cz_G6X8DmQEg"
      },
      "outputs": [],
      "source": [
        "import os\n",
        "from dotenv import load_dotenv\n",
        "\n",
        "from autogen_agentchat.agents import AssistantAgent\n",
        "from autogen_core.models import UserMessage\n",
        "from autogen_ext.models.azure import AzureAIChatCompletionClient\n",
        "from azure.core.credentials import AzureKeyCredential\n",
        "from autogen_core import CancellationToken\n",
        "\n",
        "from autogen_agentchat.messages import TextMessage\n",
        "from autogen_agentchat.ui import Console\n"
      ]
    },
    {
      "cell_type": "code",
      "source": [
        "os.environ[\"GITHUB_TOKEN\"] = \"\""
      ],
      "metadata": {
        "id": "AVrXcesdnEeR"
      },
      "execution_count": 6,
      "outputs": []
    },
    {
      "cell_type": "code",
      "source": [
        "load_dotenv()\n",
        "client = AzureAIChatCompletionClient(\n",
        "    model=\"gpt-4o-mini\",\n",
        "    endpoint=\"https://models.inference.ai.azure.com\",\n",
        "    credential=AzureKeyCredential(os.getenv(\"GITHUB_TOKEN\")),\n",
        "    model_info={\n",
        "        \"json_output\": True,\n",
        "        \"function_calling\": True,\n",
        "        \"vision\": True,\n",
        "        \"family\": \"unknown\",\n",
        "    },\n",
        ")\n",
        "\n",
        "result = await client.create([UserMessage(content=\"What is the capital of France?\", source=\"user\")])\n",
        "print(result)\n"
      ],
      "metadata": {
        "colab": {
          "base_uri": "https://localhost:8080/"
        },
        "id": "VEzv4Zv-maF9",
        "outputId": "8ff39d56-d27e-43b5-e7b9-b05ea3bd6ff6"
      },
      "execution_count": 7,
      "outputs": [
        {
          "output_type": "stream",
          "name": "stderr",
          "text": [
            "/usr/local/lib/python3.12/dist-packages/autogen_ext/models/azure/_azure_ai_client.py:307: UserWarning: Missing required field 'structured_output' in ModelInfo. This field will be required in a future version of AutoGen.\n",
            "  validate_model_info(config[\"model_info\"])\n"
          ]
        },
        {
          "output_type": "stream",
          "name": "stdout",
          "text": [
            "finish_reason='stop' content='The capital of France is Paris.' usage=RequestUsage(prompt_tokens=14, completion_tokens=8) cached=False logprobs=None thought=None\n"
          ]
        }
      ]
    },
    {
      "cell_type": "code",
      "source": [
        "agent = AssistantAgent(\n",
        "    name=\"assistant\",\n",
        "    model_client=client,\n",
        "    tools=[],\n",
        "    system_message=\"You are a helpful AI Agent that can help explain python concepts to students giving them explanation and multiple code examples with varying difficulty levels\"\n",
        ")\n"
      ],
      "metadata": {
        "id": "O_MXN4tjoILs"
      },
      "execution_count": 8,
      "outputs": []
    },
    {
      "cell_type": "code",
      "source": [
        "from IPython.display import display, HTML\n",
        "\n",
        "\n",
        "async def assistant_run():\n",
        "    user_query = \"Explain to me list comprehension in python\"\n",
        "\n",
        "    html_output = \"<div style='margin-bottom:10px'>\"\n",
        "    html_output += \"<div style='font-weight:bold'>User:</div>\"\n",
        "    html_output += f\"<div style='margin-left:20px'>{user_query}</div>\"\n",
        "    html_output += \"</div>\"\n",
        "\n",
        "    response = await agent.on_messages(\n",
        "        [TextMessage(content=user_query, source=\"user\")],\n",
        "        cancellation_token=CancellationToken(),\n",
        "    )\n",
        "\n",
        "    html_output += \"<div style='margin-bottom:20px'>\"\n",
        "    html_output += \"<div style='font-weight:bold'>Assistant:</div>\"\n",
        "    html_output += f\"<div style='margin-left:20px; white-space:pre-wrap'>{response.chat_message.content}</div>\"\n",
        "    html_output += \"</div>\"\n",
        "\n",
        "    display(HTML(html_output))\n",
        "\n",
        "await assistant_run()"
      ],
      "metadata": {
        "colab": {
          "base_uri": "https://localhost:8080/",
          "height": 1000
        },
        "id": "cEjFxEss4YMQ",
        "outputId": "0eedbca9-73fb-488f-b32a-c59c04174415"
      },
      "execution_count": 9,
      "outputs": [
        {
          "output_type": "display_data",
          "data": {
            "text/plain": [
              "<IPython.core.display.HTML object>"
            ],
            "text/html": [
              "<div style='margin-bottom:10px'><div style='font-weight:bold'>User:</div><div style='margin-left:20px'>Explain to me list comprehension in python</div></div><div style='margin-bottom:20px'><div style='font-weight:bold'>Assistant:</div><div style='margin-left:20px; white-space:pre-wrap'>List comprehension is a concise way to create lists in Python. It allows you to generate a new list by performing operations on each item in an iterable (like a list, tuple, or string), often with a filtering condition. This can lead to cleaner and more readable code compared to using traditional for loops.\n",
              "\n",
              "### Basic Structure of List Comprehension\n",
              "\n",
              "The syntax for list comprehension is:\n",
              "\n",
              "```python\n",
              "new_list = [expression for item in iterable if condition]\n",
              "```\n",
              "\n",
              "- **expression**: This is the current item in the iteration that is transformed or modified before being added to the new list.\n",
              "- **item**: This is the variable that takes the value of each element in the iterable.\n",
              "- **iterable**: This is a collection of items, such as a list.\n",
              "- **condition**: This is an optional filtering condition that only includes items in the new list if they meet this condition.\n",
              "\n",
              "### Basic Example\n",
              "\n",
              "Let’s start with a simple example that creates a list of squares from 0 to 9.\n",
              "\n",
              "#### Traditional Loop\n",
              "\n",
              "```python\n",
              "squares = []\n",
              "for x in range(10):\n",
              "    squares.append(x**2)\n",
              "print(squares)\n",
              "```\n",
              "\n",
              "#### List Comprehension\n",
              "\n",
              "```python\n",
              "squares = [x**2 for x in range(10)]\n",
              "print(squares)\n",
              "```\n",
              "**Output:**\n",
              "```\n",
              "[0, 1, 4, 9, 16, 25, 36, 49, 64, 81]\n",
              "```\n",
              "\n",
              "### Adding a Condition\n",
              "\n",
              "You can also add a condition to filter items. For example, you might want to only include even squares:\n",
              "\n",
              "#### Traditional Loop with Condition\n",
              "\n",
              "```python\n",
              "even_squares = []\n",
              "for x in range(10):\n",
              "    if x % 2 == 0:\n",
              "        even_squares.append(x**2)\n",
              "print(even_squares)\n",
              "```\n",
              "\n",
              "#### List Comprehension with Condition\n",
              "\n",
              "```python\n",
              "even_squares = [x**2 for x in range(10) if x % 2 == 0]\n",
              "print(even_squares)\n",
              "```\n",
              "**Output:**\n",
              "```\n",
              "[0, 4, 16, 36, 64]\n",
              "```\n",
              "\n",
              "### Advanced Example\n",
              "\n",
              "You can also use list comprehension with nested loops and apply operations. For instance, if you want to create a list of pairs (i, j) where i and j are in a given range:\n",
              "\n",
              "```python\n",
              "pairs = [(i, j) for i in range(3) for j in range(2)]\n",
              "print(pairs)\n",
              "```\n",
              "**Output:**\n",
              "```\n",
              "[(0, 0), (0, 1), (1, 0), (1, 1), (2, 0), (2, 1)]\n",
              "```\n",
              "\n",
              "### Conclusion\n",
              "\n",
              "List comprehension is a powerful tool in Python that can make your code cleaner and more expressive. It allows you to create new lists in a single line of code and can also include conditions to filter elements. As you become more comfortable with it, you’ll find that it can simplify many common list-processing tasks. \n",
              "\n",
              "If you have any specific questions or want to see more examples or variations, feel free to ask!</div></div>"
            ]
          },
          "metadata": {}
        }
      ]
    },
    {
      "cell_type": "code",
      "source": [],
      "metadata": {
        "id": "SwA_VwOd4p1N"
      },
      "execution_count": null,
      "outputs": []
    }
  ]
}